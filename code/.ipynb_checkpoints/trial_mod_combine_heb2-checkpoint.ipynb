{
 "cells": [
  {
   "cell_type": "code",
   "execution_count": 4,
   "metadata": {
    "collapsed": false
   },
   "outputs": [],
   "source": [
    "import numpy as np\n",
    "import pandas as pd\n",
    "import scipy.signal as signal\n",
    "import scipy as sci\n",
    "import math as ma"
   ]
  },
  {
   "cell_type": "code",
   "execution_count": 5,
   "metadata": {
    "collapsed": false
   },
   "outputs": [],
   "source": [
    "dataset2 = pd.read_json(\"./../Data/Band/HEB2/merged_file_acc_heb_2.json\")\n",
    "dataset2_g = pd.read_json(\"./../Data/Band/HEB2/merged_file_gyro_heb_2.json\")\n",
    "dataset2_h = pd.read_json(\"./../Data/Band/HEB2/merged_file_heart_heb_2.json\")\n",
    "dataset2_t = pd.read_json(\"./../Data/Band/HEB2/merged_file_skin_heb_2.json\")\n",
    "dataset2_s = pd.read_json(\"./../Data/Band/HEB2/merged_file_speed_heb_2.json\")\n",
    "\n",
    "dataset2 = dataset2.sort_values(by='Timestamp') \n",
    "dataset2['Timestamp'] = dataset2['Timestamp'].apply(lambda x: x.replace(microsecond=0))\n",
    "dataset2 = dataset2[[5,6,7,8]]\n",
    "\n",
    "dataset2_g = dataset2_g.sort_values(by='Timestamp') \n",
    "dataset2_g['Timestamp'] = dataset2_g['Timestamp'].apply(lambda x: x.replace(microsecond=0))\n",
    "dataset2_g = dataset2_g[[1,2,3,8]]\n",
    "\n",
    "dataset_f2 = dataset2.merge(dataset2_g,how='left', left_on='Timestamp', right_on='Timestamp')\n",
    "\n",
    "dataset2_h = dataset2_h.sort_values(by='Timestamp') \n",
    "dataset2_h['Timestamp'] = dataset2_h['Timestamp'].apply(lambda x: x.replace(microsecond=0))\n",
    "dataset2_h = dataset2_h[[6,3]]\n",
    "\n",
    "dataset_f2 = dataset_f2.merge(dataset2_h,how='left', left_on='Timestamp', right_on='Timestamp')\n",
    "\n",
    "dataset2_t = dataset2_t.sort_values(by='Timestamp') \n",
    "dataset2_t['Timestamp'] = dataset2_t['Timestamp'].apply(lambda x: x.replace(microsecond=0))\n",
    "dataset2_t = dataset2_t[[6,5]]\n",
    "\n",
    "dataset_f2 = dataset_f2.merge(dataset2_t,how='left', left_on='Timestamp', right_on='Timestamp')\n",
    "\n",
    "dataset2_s = dataset2_s.sort_values(by='Timestamp')\n",
    "dataset2_s['Timestamp'] = dataset2_s['Timestamp'].apply(lambda x: x.replace(microsecond=0))\n",
    "dataset2_s = dataset2_s[[7,5]]\n",
    "dataset_f2 = dataset_f2.merge(dataset2_s,how='left', left_on='Timestamp', right_on='Timestamp')\n",
    "\n",
    "dataset_f2 = dataset_f2.fillna(method='bfill')\n",
    "dataset_f2 = dataset_f2.fillna(method='pad')\n",
    "\n",
    "#dataset_f2"
   ]
  },
  {
   "cell_type": "code",
   "execution_count": 6,
   "metadata": {
    "collapsed": false
   },
   "outputs": [
    {
     "data": {
      "text/plain": [
       "(769, 10)"
      ]
     },
     "execution_count": 6,
     "metadata": {},
     "output_type": "execute_result"
    }
   ],
   "source": [
    "data = dataset_f2.as_matrix();\n",
    "data = data[500:1269]\n",
    "data.shape"
   ]
  },
  {
   "cell_type": "code",
   "execution_count": 7,
   "metadata": {
    "collapsed": true
   },
   "outputs": [],
   "source": [
    "import matplotlib.pyplot as plt\n",
    "%matplotlib inline"
   ]
  },
  {
   "cell_type": "code",
   "execution_count": 8,
   "metadata": {
    "collapsed": false
   },
   "outputs": [
    {
     "data": {
      "text/plain": [
       "[<matplotlib.lines.Line2D at 0x7f9267d32470>]"
      ]
     },
     "execution_count": 8,
     "metadata": {},
     "output_type": "execute_result"
    },
    {
     "data": {
      "image/png": "[encoded data removed]",
      "text/plain": [
       "<matplotlib.figure.Figure at 0x7f929c6d0278>"
      ]
     },
     "metadata": {},
     "output_type": "display_data"
    }
   ],
   "source": [
    "plt.plot(data[:,7])"
   ]
  },
  {
   "cell_type": "code",
   "execution_count": 9,
   "metadata": {
    "collapsed": false
   },
   "outputs": [],
   "source": [
    "ax_2 = data[:,1];\n",
    "ay_2 = data[:,2];\n",
    "az_2 = data[:,3];\n",
    "gx_2 = data[:,4];\n",
    "gy_2 = data[:,5];\n",
    "gz_2 = data[:,6];\n",
    "h_2 = data[:,7];\n",
    "t_2 = data[:,8];\n",
    "s_2 = data[:,9]"
   ]
  },
  {
   "cell_type": "code",
   "execution_count": 10,
   "metadata": {
    "collapsed": false
   },
   "outputs": [],
   "source": [
    "import matplotlib.pyplot as plt\n",
    "%matplotlib inline\n",
    "#plt.plot(ax_1[0:100])\n",
    "#plt.show()"
   ]
  },
  {
   "cell_type": "code",
   "execution_count": 11,
   "metadata": {
    "collapsed": false
   },
   "outputs": [],
   "source": [
    "d2 = np.mean(data[:,1:4]**2, axis = 1);\n",
    "#d2"
   ]
  },
  {
   "cell_type": "code",
   "execution_count": 12,
   "metadata": {
    "collapsed": false
   },
   "outputs": [
    {
     "data": {
      "text/plain": [
       "(769,)"
      ]
     },
     "execution_count": 12,
     "metadata": {},
     "output_type": "execute_result"
    }
   ],
   "source": [
    "d2.shape"
   ]
  },
  {
   "cell_type": "code",
   "execution_count": 13,
   "metadata": {
    "collapsed": false
   },
   "outputs": [],
   "source": [
    "rms_acc_2 = []\n",
    "for i in range (0, len(d2)):\n",
    "    \n",
    "    rms_acc_2.append(ma.sqrt(d2[i]));"
   ]
  },
  {
   "cell_type": "code",
   "execution_count": 14,
   "metadata": {
    "collapsed": false
   },
   "outputs": [],
   "source": [
    "#rms_acc_2\n",
    "Num_taps = 10;\n",
    "a = signal.firwin(Num_taps, cutoff = 0.001, window = \"boxcar\");\n",
    "\n",
    "g_x_2 = signal.convolve(gx_2, a, mode='full');\n",
    "g_y_2 = signal.convolve(gy_2, a, mode='full');\n",
    "g_z_2 = signal.convolve(gz_2, a, mode='full');"
   ]
  },
  {
   "cell_type": "code",
   "execution_count": 15,
   "metadata": {
    "collapsed": false
   },
   "outputs": [
    {
     "data": {
      "image/png": "[encoded data removed]",
      "text/plain": [
       "<matplotlib.figure.Figure at 0x7f9267d76978>"
      ]
     },
     "metadata": {},
     "output_type": "display_data"
    }
   ],
   "source": [
    "w = signal.medfilt(rms_acc_2);\n",
    "\n",
    "acc_x_2 = signal.medfilt(ax_2);\n",
    "acc_y_2 = signal.medfilt(ay_2);\n",
    "acc_z_2 = signal.medfilt(az_2);\n",
    "\n",
    "#g_x_2 = signal.medfilt(gx_2);\n",
    "#g_y_2 = signal.medfilt(gy_2);\n",
    "#g_z_2 = signal.medfilt(gz_2);\n",
    "plt.figure\n",
    "lnn = np.linspace(0,len(gx_2), len(gx_2));\n",
    "lnn1 = np.linspace(0,len(g_x_2), len(g_x_2));\n",
    "plt.plot(lnn, gx_2, 'b', lnn1, g_x_2 , 'r');\n",
    "plt.legend(('gx_2', 'g_x_2'), loc = 'best');\n",
    "plt.show()"
   ]
  },
  {
   "cell_type": "code",
   "execution_count": 16,
   "metadata": {
    "collapsed": false
   },
   "outputs": [],
   "source": [
    "frame = 50;\n",
    "stepsize = 25;\n",
    "vr2 = [];\n",
    "mn2 = [];\n",
    "    \n",
    "vr_acc_x_2 = []\n",
    "vr_acc_y_2 = []\n",
    "vr_acc_z_2 = []\n",
    "# vr1 = variance of rms acc1\n",
    "# vr2 = variance of rms acc2\n",
    "# mn1 = mean of rms acc1\n",
    "# mn2 = mean of rms ac c1\n",
    "\n",
    "mn_acc_x_2 = []\n",
    "\n",
    "mn_acc_y_2 = []\n",
    "\n",
    "mn_acc_z_2 = []\n",
    "\n",
    "mn_g_x_2 = []\n",
    "\n",
    "mn_g_y_2 = []\n",
    "\n",
    "mn_g_z_2 = []\n",
    "mn_h_2 = []\n",
    "\n",
    "mn_t_2 = []\n",
    "\n",
    "mn_s_2 = []\n",
    "#vr_acc_x_1\n",
    "#vr_acc_y_1\n",
    "#vr_acc_z_1\n",
    "\n",
    "#mn_acc_x_1\n",
    "#mn_acc_y_1\n",
    "#mn_acc_z_1\n",
    "\n",
    "\n",
    "#vr_acc_x_2\n",
    "#vr_acc_y_2\n",
    "#vr_acc_z_2\n",
    "\n",
    "#mn_acc_x_2\n",
    "#mn_acc_y_2\n",
    "#mn_acc_z_2    "
   ]
  },
  {
   "cell_type": "code",
   "execution_count": 17,
   "metadata": {
    "collapsed": false
   },
   "outputs": [],
   "source": [
    "for cnt in range (0, len(acc_x_2), stepsize):\n",
    "    dt = acc_x_2[cnt:cnt+frame];\n",
    "    dt2 = acc_y_2[cnt:cnt+frame];\n",
    "    dt3 = acc_z_2[cnt:cnt+frame];\n",
    "    var_acc_x_2 = np.var(dt, axis = 0)\n",
    "    var_acc_y_2 = np.var(dt2, axis = 0)\n",
    "    var_acc_z_2 = np.var(dt3, axis = 0)\n",
    "    \n",
    "    vr_acc_x_2.append(var_acc_x_2);\n",
    "    vr_acc_y_2.append(var_acc_y_2);\n",
    "    vr_acc_z_2.append(var_acc_z_2);\n",
    "        \n",
    "    "
   ]
  },
  {
   "cell_type": "code",
   "execution_count": 18,
   "metadata": {
    "collapsed": false
   },
   "outputs": [],
   "source": [
    "for cnt in range (0, len(acc_x_2), stepsize):\n",
    "    dt = acc_x_2[cnt:cnt+frame];\n",
    "    dt2 = acc_y_2[cnt:cnt+frame];\n",
    "    dt3 = acc_z_2[cnt:cnt+frame];\n",
    "    mean_acc_x_2 = np.mean(dt, axis = 0)\n",
    "    mean_acc_y_2 = np.mean(dt2, axis = 0)\n",
    "    mean_acc_z_2 = np.mean(dt3, axis = 0)\n",
    "    \n",
    "    mn_acc_x_2.append(mean_acc_x_2);\n",
    "    mn_acc_y_2.append(mean_acc_y_2);\n",
    "    mn_acc_z_2.append(mean_acc_z_2);\n",
    "      "
   ]
  },
  {
   "cell_type": "code",
   "execution_count": 19,
   "metadata": {
    "collapsed": true
   },
   "outputs": [],
   "source": [
    "for count in range (0,len(acc_x_2), stepsize):\n",
    "    dt2 = w[count:count + frame];\n",
    "    var2 = np.var(dt2, axis = 0);\n",
    "    mean2 = np.mean(dt2, axis = 0);\n",
    "    \n",
    "    vr2.append(var2);\n",
    "    mn2.append(mean2);"
   ]
  },
  {
   "cell_type": "code",
   "execution_count": 20,
   "metadata": {
    "collapsed": true
   },
   "outputs": [],
   "source": [
    "for cnt in range (0, len(acc_x_2), stepsize):\n",
    "    dt = gx_2[cnt:cnt+frame];\n",
    "    dt2 = gy_2[cnt:cnt+frame];\n",
    "    dt3 = gz_2[cnt:cnt+frame];\n",
    "    dt4 = h_2[cnt:cnt+frame];\n",
    "    dt5 = t_2[cnt:cnt+frame];\n",
    "    dt6 = s_2[cnt:cnt+frame];\n",
    "    \n",
    "    mean_gx_2 = np.mean(dt, axis = 0)\n",
    "    mean_gy_2 = np.mean(dt2, axis = 0)\n",
    "    mean_gz_2 = np.mean(dt3, axis = 0)\n",
    "    mean_h_2 = np.mean(dt4, axis = 0)\n",
    "    mean_t_2 = np.mean(dt5, axis = 0)\n",
    "    mean_s_2 = np.mean(dt6, axis = 0)\n",
    "    \n",
    "    mn_g_x_2.append(mean_gx_2);\n",
    "    mn_g_y_2.append(mean_gy_2);\n",
    "    mn_g_z_2.append(mean_gz_2);\n",
    "    mn_h_2.append(mean_h_2);\n",
    "    mn_t_2.append(mean_t_2);\n",
    "    mn_s_2.append(mean_s_2);\n",
    "    "
   ]
  },
  {
   "cell_type": "code",
   "execution_count": 21,
   "metadata": {
    "collapsed": false
   },
   "outputs": [
    {
     "data": {
      "text/plain": [
       "array([0, 0, 0, 0, 0, 0, 0, 0, 0, 0, 0, 0, 0, 0, 0, 0, 0, 0, 0, 0, 0, 0, 0,\n",
       "       0, 0, 0, 0, 0, 0, 0, 0])"
      ]
     },
     "execution_count": 21,
     "metadata": {},
     "output_type": "execute_result"
    }
   ],
   "source": [
    "a = np.zeros((len(mn_acc_x_2),), dtype=np.int)\n",
    "a"
   ]
  },
  {
   "cell_type": "code",
   "execution_count": 22,
   "metadata": {
    "collapsed": false
   },
   "outputs": [],
   "source": [
    "data_frame_features = np.column_stack((mn_acc_x_2, mn_acc_y_2,mn_acc_z_2,vr_acc_x_2, vr_acc_y_2,vr_acc_z_2,mn2,vr2,mn_g_x_2,mn_g_y_2,mn_g_z_2,mn_h_2,mn_t_2,mn_s_2,a))"
   ]
  },
  {
   "cell_type": "code",
   "execution_count": 23,
   "metadata": {
    "collapsed": false
   },
   "outputs": [
    {
     "data": {
      "text/plain": [
       "(31, 15)"
      ]
     },
     "execution_count": 23,
     "metadata": {},
     "output_type": "execute_result"
    }
   ],
   "source": [
    "data_frame_features.shape"
   ]
  },
  {
   "cell_type": "markdown",
   "metadata": {
    "collapsed": false
   },
   "source": []
  },
  {
   "cell_type": "code",
   "execution_count": 24,
   "metadata": {
    "collapsed": true
   },
   "outputs": [],
   "source": [
    "np.savetxt('f.txt',data_frame_features)"
   ]
  },
  {
   "cell_type": "code",
   "execution_count": 25,
   "metadata": {
    "collapsed": true
   },
   "outputs": [],
   "source": [
    "#check_f = np.loadtxt('f.txt')"
   ]
  },
  {
   "cell_type": "code",
   "execution_count": 26,
   "metadata": {
    "collapsed": false
   },
   "outputs": [],
   "source": [
    "#check_f.shape"
   ]
  },
  {
   "cell_type": "code",
   "execution_count": null,
   "metadata": {
    "collapsed": true
   },
   "outputs": [],
   "source": []
  },
  {
   "cell_type": "code",
   "execution_count": null,
   "metadata": {
    "collapsed": true
   },
   "outputs": [],
   "source": []
  },
  {
   "cell_type": "code",
   "execution_count": null,
   "metadata": {
    "collapsed": true
   },
   "outputs": [],
   "source": []
  },
  {
   "cell_type": "code",
   "execution_count": null,
   "metadata": {
    "collapsed": true
   },
   "outputs": [],
   "source": []
  },
  {
   "cell_type": "code",
   "execution_count": null,
   "metadata": {
    "collapsed": true
   },
   "outputs": [],
   "source": []
  },
  {
   "cell_type": "code",
   "execution_count": null,
   "metadata": {
    "collapsed": true
   },
   "outputs": [],
   "source": []
  },
  {
   "cell_type": "code",
   "execution_count": null,
   "metadata": {
    "collapsed": true
   },
   "outputs": [],
   "source": []
  }
 ],
 "metadata": {
  "anaconda-cloud": {},
  "kernelspec": {
   "display_name": "Python 3",
   "language": "python",
   "name": "python3"
  },
  "language_info": {
   "codemirror_mode": {
    "name": "ipython",
    "version": 3
   },
   "file_extension": ".py",
   "mimetype": "text/x-python",
   "name": "python",
   "nbconvert_exporter": "python",
   "pygments_lexer": "ipython3",
   "version": "3.4.3"
  }
 },
 "nbformat": 4,
 "nbformat_minor": 1
}
